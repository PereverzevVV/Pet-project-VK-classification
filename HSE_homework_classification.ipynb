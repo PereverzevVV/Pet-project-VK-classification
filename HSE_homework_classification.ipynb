{
 "cells": [
  {
   "cell_type": "markdown",
   "metadata": {},
   "source": [
    "# Мутировавшая домашка"
   ]
  },
  {
   "cell_type": "markdown",
   "metadata": {},
   "source": [
    "Давайте попробуем построить модель, которая могла бы ответить на вопрос \"А поставит ли человек лайк в паблик?\". Возможно, что здесь нас ждёт успех."
   ]
  },
  {
   "cell_type": "code",
   "execution_count": 1,
   "metadata": {},
   "outputs": [],
   "source": [
    "import pandas as pd               \n",
    "import numpy as np                \n",
    "import matplotlib.pyplot as plt   \n",
    "import matplotlib\n",
    "import seaborn as sns              \n",
    "plt.style.use('ggplot')\n",
    "from sklearn.metrics import *\n",
    "import itertools\n",
    "import warnings\n",
    "warnings.filterwarnings('ignore')\n",
    "\n",
    "%matplotlib inline\n",
    "np.random.seed(42)"
   ]
  },
  {
   "cell_type": "code",
   "execution_count": 2,
   "metadata": {},
   "outputs": [],
   "source": [
    "# Функция для отрисовки roc-auc кривой    \n",
    "def roc_auc_pic(y_hat_test, y_test):    \n",
    "    fpr_test, tpr_test, thresholds_test = roc_curve(y_test, y_hat_test)\n",
    "    roc_auc_test = roc_auc_score(y_test, y_hat_test)\n",
    "\n",
    "    matplotlib.rcParams['figure.figsize'] = (8, 8)\n",
    "    plt.plot(fpr_test, tpr_test, label='Test ROC AUC {0}'.format(roc_auc_test))\n",
    "    plt.plot([0, 1], [0, 1], '--', color=(0.6, 0.6, 0.6))\n",
    "    plt.xlim([0, 1])\n",
    "    plt.ylim([0, 1])\n",
    "    plt.xlabel('False Positive Rate')\n",
    "    plt.ylabel('True Positive Rate')\n",
    "    plt.legend(loc='lower right')\n",
    "    plt.show() \n",
    "    pass"
   ]
  },
  {
   "cell_type": "code",
   "execution_count": 3,
   "metadata": {},
   "outputs": [
    {
     "data": {
      "text/html": [
       "<div>\n",
       "<style scoped>\n",
       "    .dataframe tbody tr th:only-of-type {\n",
       "        vertical-align: middle;\n",
       "    }\n",
       "\n",
       "    .dataframe tbody tr th {\n",
       "        vertical-align: top;\n",
       "    }\n",
       "\n",
       "    .dataframe thead th {\n",
       "        text-align: right;\n",
       "    }\n",
       "</style>\n",
       "<table border=\"1\" class=\"dataframe\">\n",
       "  <thead>\n",
       "    <tr style=\"text-align: right;\">\n",
       "      <th></th>\n",
       "      <th>city</th>\n",
       "      <th>country</th>\n",
       "      <th>first_name</th>\n",
       "      <th>home_town</th>\n",
       "      <th>last_name</th>\n",
       "      <th>likes_memes</th>\n",
       "      <th>uid</th>\n",
       "      <th>male_dummy</th>\n",
       "      <th>facebook_dummy</th>\n",
       "      <th>instagram_dummy</th>\n",
       "      <th>...</th>\n",
       "      <th>photo_month_mean</th>\n",
       "      <th>photo_repost_cnt</th>\n",
       "      <th>photo_repost_max</th>\n",
       "      <th>photo_repost_mean</th>\n",
       "      <th>photo_repost_median</th>\n",
       "      <th>photo_text_len_cnt</th>\n",
       "      <th>photo_ava_change_cnt</th>\n",
       "      <th>photo_text_url_len_cnt</th>\n",
       "      <th>friends_from_course_cnt</th>\n",
       "      <th>friends_mail_from_course_pct</th>\n",
       "    </tr>\n",
       "  </thead>\n",
       "  <tbody>\n",
       "    <tr>\n",
       "      <th>0</th>\n",
       "      <td>Москва</td>\n",
       "      <td>Россия</td>\n",
       "      <td>Артём</td>\n",
       "      <td>MOSCOW</td>\n",
       "      <td>Еркин</td>\n",
       "      <td>0</td>\n",
       "      <td>181029517</td>\n",
       "      <td>1</td>\n",
       "      <td>0</td>\n",
       "      <td>0</td>\n",
       "      <td>...</td>\n",
       "      <td>1.000000</td>\n",
       "      <td>0.0</td>\n",
       "      <td>0.0</td>\n",
       "      <td>0.000000</td>\n",
       "      <td>0.0</td>\n",
       "      <td>0.0</td>\n",
       "      <td>0.0</td>\n",
       "      <td>0.0</td>\n",
       "      <td>16.0</td>\n",
       "      <td>0.375000</td>\n",
       "    </tr>\n",
       "    <tr>\n",
       "      <th>1</th>\n",
       "      <td>NaN</td>\n",
       "      <td>Россия</td>\n",
       "      <td>Армен</td>\n",
       "      <td>NaN</td>\n",
       "      <td>Хачатрян</td>\n",
       "      <td>15</td>\n",
       "      <td>73703994</td>\n",
       "      <td>1</td>\n",
       "      <td>0</td>\n",
       "      <td>1</td>\n",
       "      <td>...</td>\n",
       "      <td>1.750000</td>\n",
       "      <td>4.0</td>\n",
       "      <td>1.0</td>\n",
       "      <td>0.571429</td>\n",
       "      <td>1.0</td>\n",
       "      <td>0.0</td>\n",
       "      <td>0.0</td>\n",
       "      <td>0.0</td>\n",
       "      <td>47.0</td>\n",
       "      <td>0.531915</td>\n",
       "    </tr>\n",
       "    <tr>\n",
       "      <th>2</th>\n",
       "      <td>Москва</td>\n",
       "      <td>Россия</td>\n",
       "      <td>Abbos</td>\n",
       "      <td>Бекабад</td>\n",
       "      <td>Akhmedov</td>\n",
       "      <td>11</td>\n",
       "      <td>467673028</td>\n",
       "      <td>1</td>\n",
       "      <td>0</td>\n",
       "      <td>0</td>\n",
       "      <td>...</td>\n",
       "      <td>1.000000</td>\n",
       "      <td>0.0</td>\n",
       "      <td>0.0</td>\n",
       "      <td>0.000000</td>\n",
       "      <td>0.0</td>\n",
       "      <td>0.0</td>\n",
       "      <td>0.0</td>\n",
       "      <td>0.0</td>\n",
       "      <td>26.0</td>\n",
       "      <td>0.500000</td>\n",
       "    </tr>\n",
       "    <tr>\n",
       "      <th>3</th>\n",
       "      <td>Москва</td>\n",
       "      <td>Россия</td>\n",
       "      <td>Адам</td>\n",
       "      <td>NaN</td>\n",
       "      <td>Триандафилиди</td>\n",
       "      <td>0</td>\n",
       "      <td>144910934</td>\n",
       "      <td>1</td>\n",
       "      <td>0</td>\n",
       "      <td>1</td>\n",
       "      <td>...</td>\n",
       "      <td>1.428571</td>\n",
       "      <td>0.0</td>\n",
       "      <td>0.0</td>\n",
       "      <td>0.000000</td>\n",
       "      <td>0.0</td>\n",
       "      <td>0.0</td>\n",
       "      <td>0.0</td>\n",
       "      <td>0.0</td>\n",
       "      <td>83.0</td>\n",
       "      <td>0.518072</td>\n",
       "    </tr>\n",
       "    <tr>\n",
       "      <th>4</th>\n",
       "      <td>Алматы</td>\n",
       "      <td>Казахстан</td>\n",
       "      <td>Айжан</td>\n",
       "      <td>NaN</td>\n",
       "      <td>Саят</td>\n",
       "      <td>9</td>\n",
       "      <td>166045266</td>\n",
       "      <td>0</td>\n",
       "      <td>0</td>\n",
       "      <td>0</td>\n",
       "      <td>...</td>\n",
       "      <td>1.333333</td>\n",
       "      <td>0.0</td>\n",
       "      <td>0.0</td>\n",
       "      <td>0.000000</td>\n",
       "      <td>0.0</td>\n",
       "      <td>0.0</td>\n",
       "      <td>0.0</td>\n",
       "      <td>0.0</td>\n",
       "      <td>29.0</td>\n",
       "      <td>0.344828</td>\n",
       "    </tr>\n",
       "  </tbody>\n",
       "</table>\n",
       "<p>5 rows × 96 columns</p>\n",
       "</div>"
      ],
      "text/plain": [
       "     city    country first_name home_town      last_name  likes_memes  \\\n",
       "0  Москва     Россия      Артём   MOSCOW           Еркин            0   \n",
       "1     NaN     Россия      Армен       NaN       Хачатрян           15   \n",
       "2  Москва     Россия      Abbos   Бекабад       Akhmedov           11   \n",
       "3  Москва     Россия       Адам       NaN  Триандафилиди            0   \n",
       "4  Алматы  Казахстан      Айжан       NaN           Саят            9   \n",
       "\n",
       "         uid  male_dummy  facebook_dummy  instagram_dummy  \\\n",
       "0  181029517           1               0                0   \n",
       "1   73703994           1               0                1   \n",
       "2  467673028           1               0                0   \n",
       "3  144910934           1               0                1   \n",
       "4  166045266           0               0                0   \n",
       "\n",
       "               ...               photo_month_mean  photo_repost_cnt  \\\n",
       "0              ...                       1.000000               0.0   \n",
       "1              ...                       1.750000               4.0   \n",
       "2              ...                       1.000000               0.0   \n",
       "3              ...                       1.428571               0.0   \n",
       "4              ...                       1.333333               0.0   \n",
       "\n",
       "   photo_repost_max  photo_repost_mean  photo_repost_median  \\\n",
       "0               0.0           0.000000                  0.0   \n",
       "1               1.0           0.571429                  1.0   \n",
       "2               0.0           0.000000                  0.0   \n",
       "3               0.0           0.000000                  0.0   \n",
       "4               0.0           0.000000                  0.0   \n",
       "\n",
       "   photo_text_len_cnt  photo_ava_change_cnt  photo_text_url_len_cnt  \\\n",
       "0                 0.0                   0.0                     0.0   \n",
       "1                 0.0                   0.0                     0.0   \n",
       "2                 0.0                   0.0                     0.0   \n",
       "3                 0.0                   0.0                     0.0   \n",
       "4                 0.0                   0.0                     0.0   \n",
       "\n",
       "   friends_from_course_cnt  friends_mail_from_course_pct  \n",
       "0                     16.0                      0.375000  \n",
       "1                     47.0                      0.531915  \n",
       "2                     26.0                      0.500000  \n",
       "3                     83.0                      0.518072  \n",
       "4                     29.0                      0.344828  \n",
       "\n",
       "[5 rows x 96 columns]"
      ]
     },
     "execution_count": 3,
     "metadata": {},
     "output_type": "execute_result"
    }
   ],
   "source": [
    "df = pd.read_csv('vk_main.csv', sep='\\t')   # подгружаем датасет\n",
    "df.head()"
   ]
  },
  {
   "cell_type": "code",
   "execution_count": 4,
   "metadata": {},
   "outputs": [],
   "source": [
    "# Наш таргет: \"а он лайкнул мем хотя бы раз?\"\n",
    "df['ln_likes_memes'] = df['likes_memes'] > 0"
   ]
  },
  {
   "cell_type": "code",
   "execution_count": 5,
   "metadata": {},
   "outputs": [
    {
     "data": {
      "text/html": [
       "<div>\n",
       "<style scoped>\n",
       "    .dataframe tbody tr th:only-of-type {\n",
       "        vertical-align: middle;\n",
       "    }\n",
       "\n",
       "    .dataframe tbody tr th {\n",
       "        vertical-align: top;\n",
       "    }\n",
       "\n",
       "    .dataframe thead th {\n",
       "        text-align: right;\n",
       "    }\n",
       "</style>\n",
       "<table border=\"1\" class=\"dataframe\">\n",
       "  <thead>\n",
       "    <tr style=\"text-align: right;\">\n",
       "      <th></th>\n",
       "      <th>country</th>\n",
       "      <th>first_name</th>\n",
       "      <th>last_name</th>\n",
       "      <th>likes_memes</th>\n",
       "      <th>uid</th>\n",
       "      <th>male_dummy</th>\n",
       "      <th>facebook_dummy</th>\n",
       "      <th>instagram_dummy</th>\n",
       "      <th>skype_dummy</th>\n",
       "      <th>twitter_dummy</th>\n",
       "      <th>...</th>\n",
       "      <th>photo_repost_cnt</th>\n",
       "      <th>photo_repost_max</th>\n",
       "      <th>photo_repost_mean</th>\n",
       "      <th>photo_repost_median</th>\n",
       "      <th>photo_text_len_cnt</th>\n",
       "      <th>photo_ava_change_cnt</th>\n",
       "      <th>photo_text_url_len_cnt</th>\n",
       "      <th>friends_from_course_cnt</th>\n",
       "      <th>friends_mail_from_course_pct</th>\n",
       "      <th>ln_likes_memes</th>\n",
       "    </tr>\n",
       "  </thead>\n",
       "  <tbody>\n",
       "    <tr>\n",
       "      <th>0</th>\n",
       "      <td>Россия</td>\n",
       "      <td>Артём</td>\n",
       "      <td>Еркин</td>\n",
       "      <td>0</td>\n",
       "      <td>181029517</td>\n",
       "      <td>1</td>\n",
       "      <td>0</td>\n",
       "      <td>0</td>\n",
       "      <td>0</td>\n",
       "      <td>0</td>\n",
       "      <td>...</td>\n",
       "      <td>0.000000</td>\n",
       "      <td>0.0</td>\n",
       "      <td>0.000000</td>\n",
       "      <td>0.0</td>\n",
       "      <td>0.0</td>\n",
       "      <td>0.0</td>\n",
       "      <td>0.0</td>\n",
       "      <td>2.833213</td>\n",
       "      <td>0.375000</td>\n",
       "      <td>False</td>\n",
       "    </tr>\n",
       "    <tr>\n",
       "      <th>1</th>\n",
       "      <td>Россия</td>\n",
       "      <td>Армен</td>\n",
       "      <td>Хачатрян</td>\n",
       "      <td>15</td>\n",
       "      <td>73703994</td>\n",
       "      <td>1</td>\n",
       "      <td>0</td>\n",
       "      <td>1</td>\n",
       "      <td>0</td>\n",
       "      <td>0</td>\n",
       "      <td>...</td>\n",
       "      <td>1.609438</td>\n",
       "      <td>1.0</td>\n",
       "      <td>0.571429</td>\n",
       "      <td>1.0</td>\n",
       "      <td>0.0</td>\n",
       "      <td>0.0</td>\n",
       "      <td>0.0</td>\n",
       "      <td>3.871201</td>\n",
       "      <td>0.531915</td>\n",
       "      <td>True</td>\n",
       "    </tr>\n",
       "    <tr>\n",
       "      <th>2</th>\n",
       "      <td>Россия</td>\n",
       "      <td>Abbos</td>\n",
       "      <td>Akhmedov</td>\n",
       "      <td>11</td>\n",
       "      <td>467673028</td>\n",
       "      <td>1</td>\n",
       "      <td>0</td>\n",
       "      <td>0</td>\n",
       "      <td>0</td>\n",
       "      <td>0</td>\n",
       "      <td>...</td>\n",
       "      <td>0.000000</td>\n",
       "      <td>0.0</td>\n",
       "      <td>0.000000</td>\n",
       "      <td>0.0</td>\n",
       "      <td>0.0</td>\n",
       "      <td>0.0</td>\n",
       "      <td>0.0</td>\n",
       "      <td>3.295837</td>\n",
       "      <td>0.500000</td>\n",
       "      <td>True</td>\n",
       "    </tr>\n",
       "    <tr>\n",
       "      <th>3</th>\n",
       "      <td>Россия</td>\n",
       "      <td>Адам</td>\n",
       "      <td>Триандафилиди</td>\n",
       "      <td>0</td>\n",
       "      <td>144910934</td>\n",
       "      <td>1</td>\n",
       "      <td>0</td>\n",
       "      <td>1</td>\n",
       "      <td>1</td>\n",
       "      <td>0</td>\n",
       "      <td>...</td>\n",
       "      <td>0.000000</td>\n",
       "      <td>0.0</td>\n",
       "      <td>0.000000</td>\n",
       "      <td>0.0</td>\n",
       "      <td>0.0</td>\n",
       "      <td>0.0</td>\n",
       "      <td>0.0</td>\n",
       "      <td>4.430817</td>\n",
       "      <td>0.518072</td>\n",
       "      <td>False</td>\n",
       "    </tr>\n",
       "    <tr>\n",
       "      <th>4</th>\n",
       "      <td>Казахстан</td>\n",
       "      <td>Айжан</td>\n",
       "      <td>Саят</td>\n",
       "      <td>9</td>\n",
       "      <td>166045266</td>\n",
       "      <td>0</td>\n",
       "      <td>0</td>\n",
       "      <td>0</td>\n",
       "      <td>0</td>\n",
       "      <td>0</td>\n",
       "      <td>...</td>\n",
       "      <td>0.000000</td>\n",
       "      <td>0.0</td>\n",
       "      <td>0.000000</td>\n",
       "      <td>0.0</td>\n",
       "      <td>0.0</td>\n",
       "      <td>0.0</td>\n",
       "      <td>0.0</td>\n",
       "      <td>3.401197</td>\n",
       "      <td>0.344828</td>\n",
       "      <td>True</td>\n",
       "    </tr>\n",
       "  </tbody>\n",
       "</table>\n",
       "<p>5 rows × 81 columns</p>\n",
       "</div>"
      ],
      "text/plain": [
       "     country first_name      last_name  likes_memes        uid  male_dummy  \\\n",
       "0     Россия      Артём          Еркин            0  181029517           1   \n",
       "1     Россия      Армен       Хачатрян           15   73703994           1   \n",
       "2     Россия      Abbos       Akhmedov           11  467673028           1   \n",
       "3     Россия       Адам  Триандафилиди            0  144910934           1   \n",
       "4  Казахстан      Айжан           Саят            9  166045266           0   \n",
       "\n",
       "   facebook_dummy  instagram_dummy  skype_dummy  twitter_dummy  \\\n",
       "0               0                0            0              0   \n",
       "1               0                1            0              0   \n",
       "2               0                0            0              0   \n",
       "3               0                1            1              0   \n",
       "4               0                0            0              0   \n",
       "\n",
       "        ...        photo_repost_cnt  photo_repost_max  photo_repost_mean  \\\n",
       "0       ...                0.000000               0.0           0.000000   \n",
       "1       ...                1.609438               1.0           0.571429   \n",
       "2       ...                0.000000               0.0           0.000000   \n",
       "3       ...                0.000000               0.0           0.000000   \n",
       "4       ...                0.000000               0.0           0.000000   \n",
       "\n",
       "   photo_repost_median  photo_text_len_cnt  photo_ava_change_cnt  \\\n",
       "0                  0.0                 0.0                   0.0   \n",
       "1                  1.0                 0.0                   0.0   \n",
       "2                  0.0                 0.0                   0.0   \n",
       "3                  0.0                 0.0                   0.0   \n",
       "4                  0.0                 0.0                   0.0   \n",
       "\n",
       "   photo_text_url_len_cnt  friends_from_course_cnt  \\\n",
       "0                     0.0                 2.833213   \n",
       "1                     0.0                 3.871201   \n",
       "2                     0.0                 3.295837   \n",
       "3                     0.0                 4.430817   \n",
       "4                     0.0                 3.401197   \n",
       "\n",
       "   friends_mail_from_course_pct  ln_likes_memes  \n",
       "0                      0.375000           False  \n",
       "1                      0.531915            True  \n",
       "2                      0.500000            True  \n",
       "3                      0.518072           False  \n",
       "4                      0.344828            True  \n",
       "\n",
       "[5 rows x 81 columns]"
      ]
     },
     "execution_count": 5,
     "metadata": {},
     "output_type": "execute_result"
    }
   ],
   "source": [
    "# выбрасываем из выборки все переменные, в которых слишком много пропусков\n",
    "isnull = df.isnull().sum()\n",
    "df = df[isnull[isnull <= 56].index]\n",
    "\n",
    "# Выборка с переменными-счётчиками\n",
    "variables_cnt = [item for item in df.columns if item[-3:] == 'cnt']\n",
    "\n",
    "# Оставляем только информативные переменные\n",
    "variables_cnt = [item for item in variables_cnt if len(df[item].unique()) > 10]\n",
    "\n",
    "# логарифмируем счётчики\n",
    "df[variables_cnt] = df[variables_cnt].apply(lambda w: np.log(w + 1))\n",
    "\n",
    "# отбираем дамми - переменные \n",
    "variables_dummy = [item for item in df.columns if item[-5:] == 'dummy']\n",
    "\n",
    "# средние, медианы и максимумы\n",
    "variables_mean = [item for item in df.columns if item[-4:] == 'mean']\n",
    "variables_median = [item for item in df.columns if item[-6:] == 'median']\n",
    "variables_max = [item for item in df.columns if item[-3:] == 'max']\n",
    "\n",
    "# все полезные переменные\n",
    "useful_variables = variables_cnt + variables_dummy + variables_mean + \\\n",
    "                   variables_median + variables_max + ['friends_mail_from_course_pct']\n",
    "\n",
    "# заполняем пропуски нулями\n",
    "df[useful_variables] = df[useful_variables].fillna(0)\n",
    "df.head()"
   ]
  },
  {
   "cell_type": "markdown",
   "metadata": {},
   "source": [
    "# 2. Подготовка к моделированию.\n",
    "здесь уже начинается мой код"
   ]
  },
  {
   "cell_type": "code",
   "execution_count": 6,
   "metadata": {},
   "outputs": [],
   "source": [
    "from sklearn.model_selection import train_test_split\n",
    "\n",
    "df_train, df_test = train_test_split(df, test_size = 0.2, random_state=201905)"
   ]
  },
  {
   "cell_type": "code",
   "execution_count": 7,
   "metadata": {},
   "outputs": [],
   "source": [
    "y_train = df_train['ln_likes_memes'].get_values()\n",
    "y_test = df_test['ln_likes_memes'].get_values()"
   ]
  },
  {
   "cell_type": "code",
   "execution_count": 8,
   "metadata": {},
   "outputs": [],
   "source": [
    "# Забираем в выборку лучших из лучших \n",
    "X_train = df_train[useful_variables].get_values()\n",
    "X_test = df_test[useful_variables].get_values()"
   ]
  },
  {
   "cell_type": "markdown",
   "metadata": {},
   "source": [
    "# 3. KNN, метод ближайшего соседа"
   ]
  },
  {
   "cell_type": "code",
   "execution_count": 9,
   "metadata": {},
   "outputs": [],
   "source": [
    "#Нормировка\n",
    "from sklearn.preprocessing import MinMaxScaler  \n",
    "scaler = MinMaxScaler( )\n",
    "scaler.fit(X_train) \n",
    "X_train_norm = scaler.transform(X_train) \n",
    "X_test_norm = scaler.transform(X_test)"
   ]
  },
  {
   "cell_type": "code",
   "execution_count": 10,
   "metadata": {},
   "outputs": [],
   "source": [
    "from sklearn.neighbors import KNeighborsClassifier\n",
    "\n",
    "# объявляем метод 9 ближайших соседей\n",
    "knn = KNeighborsClassifier(n_neighbors = 9)\n",
    "\n",
    "# обучаем его по выборке \n",
    "knn.fit(X_train_norm, y_train)\n",
    "\n",
    "# строим для тестовой выборки прогнозы \n",
    "y_predict = knn.predict(X_test_norm)"
   ]
  },
  {
   "cell_type": "markdown",
   "metadata": {},
   "source": [
    "Построим для получившегося алгоритма roc-кривую на тестовой выборке. "
   ]
  },
  {
   "cell_type": "code",
   "execution_count": 11,
   "metadata": {},
   "outputs": [
    {
     "data": {
      "image/png": "[encoded data removed]",
      "text/plain": [
       "<Figure size 576x576 with 1 Axes>"
      ]
     },
     "metadata": {
      "needs_background": "light"
     },
     "output_type": "display_data"
    }
   ],
   "source": [
    "roc_auc_pic(y_predict, y_test)"
   ]
  },
  {
   "cell_type": "code",
   "execution_count": 12,
   "metadata": {},
   "outputs": [
    {
     "data": {
      "text/plain": [
       "0.5671641791044776"
      ]
     },
     "execution_count": 12,
     "metadata": {},
     "output_type": "execute_result"
    }
   ],
   "source": [
    "accuracy_score(y_test, y_predict)"
   ]
  },
  {
   "cell_type": "markdown",
   "metadata": {},
   "source": [
    "# 4. Дерево "
   ]
  },
  {
   "cell_type": "code",
   "execution_count": 13,
   "metadata": {},
   "outputs": [
    {
     "name": "stdout",
     "output_type": "stream",
     "text": [
      "accuracy: 0.582089552238806\n",
      "roc_auc: 0.5262626262626263\n"
     ]
    }
   ],
   "source": [
    "# Подгружаем дерево \n",
    "from sklearn.tree import DecisionTreeClassifier\n",
    "\n",
    "# Объявляем дерево \n",
    "tree = DecisionTreeClassifier( )\n",
    "\n",
    "# учим дерево \n",
    "tree.fit(X_train_norm, y_train)\n",
    "\n",
    "# предсказываем на тестовой выборке результаты \n",
    "y_predicted = tree.predict(X_test_norm)\n",
    "\n",
    "# посчитали долю верных ответов\n",
    "print('accuracy:', accuracy_score(y_test, y_predicted))\n",
    "print('roc_auc:', roc_auc_score(y_test, y_predicted))"
   ]
  },
  {
   "cell_type": "markdown",
   "metadata": {},
   "source": [
    "# 5. Случайный лес "
   ]
  },
  {
   "cell_type": "code",
   "execution_count": 14,
   "metadata": {},
   "outputs": [
    {
     "name": "stdout",
     "output_type": "stream",
     "text": [
      "accuracy: 0.582089552238806\n",
      "roc_auc: 0.4797979797979798\n"
     ]
    }
   ],
   "source": [
    "# Подгружаем случайный лес\n",
    "from sklearn.ensemble import RandomForestClassifier\n",
    "\n",
    "# объявляем его, будем учить 1000 деревьев\n",
    "forest = RandomForestClassifier(n_estimators=1000)\n",
    "\n",
    "# учим лес \n",
    "forest.fit(X_train_norm, y_train)\n",
    "\n",
    "# строим предсказания \n",
    "y_predicted = forest.predict(X_test_norm)\n",
    "\n",
    "# посчитали долю верных ответов\n",
    "print('accuracy:', accuracy_score(y_test, y_predicted))\n",
    "print('roc_auc:', roc_auc_score(y_test, y_predicted))"
   ]
  },
  {
   "cell_type": "markdown",
   "metadata": {},
   "source": [
    "# 7. SVM"
   ]
  },
  {
   "cell_type": "code",
   "execution_count": 15,
   "metadata": {},
   "outputs": [
    {
     "name": "stdout",
     "output_type": "stream",
     "text": [
      "accuracy: 0.6716417910447762\n"
     ]
    }
   ],
   "source": [
    "from sklearn.svm import SVC\n",
    "svm = SVC(random_state = 1)\n",
    "svm.fit(X_train_norm, y_train)\n",
    "print('accuracy:', svm.score(X_test_norm, y_test))"
   ]
  },
  {
   "cell_type": "markdown",
   "metadata": {},
   "source": [
    "# 8. Гаусс"
   ]
  },
  {
   "cell_type": "code",
   "execution_count": 16,
   "metadata": {},
   "outputs": [
    {
     "name": "stdout",
     "output_type": "stream",
     "text": [
      "accuracy: 0.5671641791044776\n"
     ]
    }
   ],
   "source": [
    "from sklearn.naive_bayes import GaussianNB\n",
    "nb = GaussianNB()\n",
    "nb.fit(X_train_norm, y_train)\n",
    "print(\"accuracy:\", nb.score(X_test_norm, y_test))"
   ]
  },
  {
   "cell_type": "code",
   "execution_count": 17,
   "metadata": {},
   "outputs": [
    {
     "data": {
      "image/png": "[encoded data removed]",
      "text/plain": [
       "<Figure size 1152x360 with 1 Axes>"
      ]
     },
     "metadata": {},
     "output_type": "display_data"
    }
   ],
   "source": [
    "methods = [\"KNN\", \"Decision Tree\", \"Random Forest\", \"SVM\", \"Naive Bayes\"]\n",
    "accuracy = [56.7, 62.7, 58.2, 67.16, 56.72]\n",
    "colors = [\"purple\", \"green\", \"orange\", \"magenta\",\"#CFC60E\",\"#0FBBAE\"]\n",
    "\n",
    "sns.set_style(\"whitegrid\")\n",
    "plt.figure(figsize=(16,5))\n",
    "plt.yticks(np.arange(0,100,10))\n",
    "plt.ylabel(\"Accuracy %\")\n",
    "plt.xlabel(\"Algorithms\")\n",
    "sns.barplot(x=methods, y=accuracy, palette=colors)\n",
    "plt.show()"
   ]
  },
  {
   "cell_type": "markdown",
   "metadata": {},
   "source": [
    "### А теперь попробуем запустить несколько алгоритмов (KNN, DT, RF), только с перебором параметров с помощью случайного поиска. Ах да, проблема низкого скора наверное заключалась в метрике. Сменим ее на F-меру"
   ]
  },
  {
   "cell_type": "code",
   "execution_count": 18,
   "metadata": {},
   "outputs": [
    {
     "name": "stdout",
     "output_type": "stream",
     "text": [
      "{'n_neighbors': 14, 'weights': 'distance'}\n",
      "0.7393230711835962\n"
     ]
    }
   ],
   "source": [
    "from sklearn.model_selection import GridSearchCV\n",
    "\n",
    "# параметры, которые мы будем перебирать \n",
    "parameters = {\n",
    "     'n_neighbors':range(5, 15),         \n",
    "     'weights':['uniform', 'distance']\n",
    "             }\n",
    "\n",
    "knn_clf = KNeighborsClassifier()\n",
    "\n",
    "\n",
    "grid_knn = GridSearchCV(knn_clf, parameters, cv=15, scoring=\"f1\")\n",
    "grid_knn.fit(X_train_norm, y_train)\n",
    "print(grid_knn.best_params_)\n",
    "print(grid_knn.best_score_)"
   ]
  },
  {
   "cell_type": "code",
   "execution_count": 19,
   "metadata": {},
   "outputs": [
    {
     "name": "stdout",
     "output_type": "stream",
     "text": [
      "{'criterion': 'gini', 'max_depth': 4}\n",
      "0.7573622375893629\n"
     ]
    }
   ],
   "source": [
    "tree = DecisionTreeClassifier( )\n",
    "# параметры, которые мы будем перебирать \n",
    "parameters = {\n",
    "     'max_depth':range(3, 15),         \n",
    "     'criterion':['gini', 'entropy']\n",
    "             }\n",
    "\n",
    "\n",
    "grid_tree = GridSearchCV(tree, parameters, cv=16, scoring=\"f1\")\n",
    "grid_tree.fit(X_train_norm, y_train)\n",
    "print(grid_tree.best_params_)\n",
    "print(grid_tree.best_score_)"
   ]
  },
  {
   "cell_type": "code",
   "execution_count": 20,
   "metadata": {},
   "outputs": [
    {
     "name": "stdout",
     "output_type": "stream",
     "text": [
      "{'n_estimators': 680}\n",
      "0.7447597249122356\n"
     ]
    }
   ],
   "source": [
    "forest = RandomForestClassifier()\n",
    "parameters = {'n_estimators':range(680, 687, 1)}\n",
    "grid_forest = GridSearchCV(forest, parameters, cv=10, scoring=\"f1\")\n",
    "grid_forest.fit(X_train, y_train)\n",
    "print(grid_forest.best_params_)\n",
    "print(grid_forest.best_score_)"
   ]
  },
  {
   "cell_type": "code",
   "execution_count": 21,
   "metadata": {},
   "outputs": [
    {
     "data": {
      "image/png": "[encoded data removed]",
      "text/plain": [
       "<Figure size 1152x360 with 1 Axes>"
      ]
     },
     "metadata": {},
     "output_type": "display_data"
    }
   ],
   "source": [
    "methods = [\"KNN_GRDCV\", \"Decision Tree GRDCV\", \"Random Forest GRDCV\"]\n",
    "accuracy = [73.9, 75.7, 74.4]\n",
    "colors = [\"purple\", \"green\",\"blue\"]\n",
    "\n",
    "sns.set_style(\"whitegrid\")\n",
    "plt.figure(figsize=(16,5))\n",
    "plt.yticks(np.arange(0,100,10))\n",
    "plt.ylabel(\"F1 Accuracy %\")\n",
    "plt.xlabel(\"Algorithms\")\n",
    "sns.barplot(x=methods, y=accuracy, palette=colors)\n",
    "plt.show()"
   ]
  },
  {
   "cell_type": "code",
   "execution_count": null,
   "metadata": {},
   "outputs": [],
   "source": []
  }
 ],
 "metadata": {
  "kernelspec": {
   "display_name": "Python 3",
   "language": "python",
   "name": "python3"
  },
  "language_info": {
   "codemirror_mode": {
    "name": "ipython",
    "version": 3
   },
   "file_extension": ".py",
   "mimetype": "text/x-python",
   "name": "python",
   "nbconvert_exporter": "python",
   "pygments_lexer": "ipython3",
   "version": "3.6.7"
  }
 },
 "nbformat": 4,
 "nbformat_minor": 2
}
